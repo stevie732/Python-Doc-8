{
 "cells": [
  {
   "cell_type": "markdown",
   "metadata": {},
   "source": [
    "# Time/Space Complexity - Intro to Data Structures (User Defined)\n",
    "\n",
    "### Topics to discuss today:\n",
    "\n",
    "<ul>\n",
    "    <li>Time and Space Complexity - What is it/How do we measure it</li>\n",
    "    <li>Asymptotic Analysis</li>\n",
    "    <li><strong>Data Structures</strong></li>\n",
    "    <li>Some of the popular sorting algorithms</li>\n",
    "</ul>\n",
    "\n",
    "### Data Structures to discuss:\n",
    "- Arrays\n",
    "- Stacks\n",
    "- Queues\n",
    "- Linked Lists\n",
    "    - Singly Linked Lists\n",
    "    - Traversing A Linked List\n",
    "    - Finding a node in a linked list\n",
    "    - Adding to a linked list\n"
   ]
  },
  {
   "cell_type": "markdown",
   "metadata": {},
   "source": [
    "## Time and Space Complexity\n",
    "\n",
    "#### What is it?\n",
    "\n",
    "Time and space complexity is the measure of how much time a given action(function) will take to solve a problem. In the same fashion, we determine how much a given data structure will need in terms of memory allocation. A problem can have multiple solutions and finding the optimal solution for the problem needs to be analyzed in time and space.\n",
    "\n",
    "#### How do we measure Time and Space Complexity?\n",
    "\n",
    "In order to measure time and space complexity we use Asymptotic analysis. The reason for this is because we need a way to measure different algorithms (functions) based on the size of their inputs in a mathmatical way. For example, we could have a function that is computed as f(n) and another that is g(n^2). All things around the function staying constant, the only thing that changes is the size of the input. Below is the chart that shows the different Asymptotic analysis formats. "
   ]
  },
  {
   "cell_type": "markdown",
   "metadata": {},
   "source": [
    "<table style=\"text-align:center;\" class=\"table table-bordered\">\n",
    "<tbody><tr>\n",
    "<td>constant</td>\n",
    "<td>−</td>\n",
    "<td>Ο(1)</td>\n",
    "</tr>\n",
    "<tr>\n",
    "<td>logarithmic</td>\n",
    "<td>−</td>\n",
    "<td>Ο(log n)</td>\n",
    "</tr>\n",
    "<tr>\n",
    "<td>linear</td>\n",
    "<td>−</td>\n",
    "<td>Ο(n)</td>\n",
    "</tr>\n",
    "<tr>\n",
    "<td>Linear Logarithmic</td>\n",
    "<td>−</td>\n",
    "<td>Ο(n log n)</td>\n",
    "</tr>\n",
    "<tr>\n",
    "<td>quadratic</td>\n",
    "<td>−</td>\n",
    "<td>Ο(n<sup>2</sup>)</td>\n",
    "</tr>\n",
    "<tr>\n",
    "<td>cubic</td>\n",
    "<td>−</td>\n",
    "<td>Ο(n<sup>3</sup>)</td>\n",
    "</tr>\n",
    "<tr>\n",
    "<td>polynomial</td>\n",
    "<td>−</td>\n",
    "<td>n<sup>Ο(1)</sup></td>\n",
    "</tr>\n",
    "<tr>\n",
    "<td>exponential</td>\n",
    "<td>−</td>\n",
    "<td>2<sup>Ο(n)</sup></td>\n",
    "</tr>\n",
    "</tbody></table>"
   ]
  },
  {
   "cell_type": "markdown",
   "metadata": {},
   "source": [
    "## Arrays"
   ]
  },
  {
   "cell_type": "markdown",
   "metadata": {},
   "source": [
    "In python we benefit from the dynamic array which means the block of memory will expand as needed for the given input to the array. In traditional arrays (depending on the type of operating system) we will usually store our inputs in 4 or 8 consecutive blocks of memory. Below is a diagram of how that looks under the hood:\n",
    "\n",
    "<img src=\"http://www.mathcs.emory.edu/~cheung/Courses/170/Syllabus/09/FIGS/array02x.gif\" style=\"height:250px; width:350px;\">"
   ]
  },
  {
   "cell_type": "markdown",
   "metadata": {},
   "source": [
    "## Which in python looks like this:"
   ]
  },
  {
   "cell_type": "code",
   "execution_count": 1,
   "metadata": {},
   "outputs": [],
   "source": [
    "lst = [23, 4, 6, 15, 5, 7]"
   ]
  },
  {
   "cell_type": "markdown",
   "metadata": {},
   "source": [
    "### Let's take a look at some of the time and space analysis of arrays"
   ]
  },
  {
   "cell_type": "code",
   "execution_count": null,
   "metadata": {},
   "outputs": [],
   "source": [
    "# Index an array (list)\n",
    "# Constant time and space - 0(1)\n",
    "indexing = lst[3] # This is 0(1)\n",
    "\n",
    "# Searching through an array\n",
    "# Linear time - Depends on how long the list is! O(n)\n",
    "# Constant space - O(1)\n",
    "for i in lst:\n",
    "    print(i)\n",
    "\n",
    "# Copying an array\n",
    "# Linear time - O(n) time...\n",
    "# Linear space - O(n)\n",
    "lst_copy = lst[:]"
   ]
  },
  {
   "cell_type": "markdown",
   "metadata": {},
   "source": [
    "## Stacks and Queues\n",
    "\n",
    "** Stacks ** as the name suggests is a data structure that allows for data to follow the Last In First Out priciple(LIFO). Think of a stack of pancakes for example. To get the first pancake you would  start with the top and go down.\n",
    "\n",
    "##### Searching through a stack will be Linear Time O(n) - Constant Space O(1)\n",
    "##### Selecting the last item will be done in Constant Time O(1) - Constant Space O(1)\n",
    "##### Adding to the stack should take Constant Time O(1) - Constant Space O(1)\n",
    "\n",
    "** Queues ** are similar but in this case follow the First In First Out principle(FIFO). Think of this as a line in a black friday sale. The first person camped out for the big screen tv is the first to get it.\n",
    "\n",
    "##### Searching through a queue will be Linear Time O(n) - Constant Space O(1)\n",
    "##### Selecting the first item will be done in Constant Time O(1) - Constant Space O(1)\n",
    "##### Adding to the queue should take Constant Time O(1) - Constant Space O(1)"
   ]
  },
  {
   "cell_type": "code",
   "execution_count": 5,
   "metadata": {},
   "outputs": [
    {
     "name": "stdout",
     "output_type": "stream",
     "text": [
      "1\n",
      "2\n",
      "3\n"
     ]
    }
   ],
   "source": [
    "# stack = []\n",
    "\n",
    "# stack.append(10)\n",
    "# stack.append(20)\n",
    "# stack.append(30)\n",
    "\n",
    "# # Accessing the last value which is sitting on top of the stack...\n",
    "# # Constant time and space - O(1)\n",
    "# last_item = stack.pop()\n",
    "# print(last_item)\n",
    "\n",
    "# # Searching stack will be linear time - O(n) and constant space O(1)\n",
    "# for i in stack:\n",
    "#     print(i)\n",
    "\n",
    "queue = []\n",
    "\n",
    "queue.append(1)\n",
    "queue.append(2)\n",
    "queue.append(3)\n",
    "\n",
    "# Accessing the first value (this will be in front of the queue)\n",
    "# Constant time and constant space\n",
    "first_item = queue.pop(0)\n",
    "print(first_item)\n",
    "\n",
    "# Searching the queue will be linear time and constant space\n",
    "for i in queue:\n",
    "    print(i)"
   ]
  },
  {
   "cell_type": "markdown",
   "metadata": {},
   "source": [
    "## Linked List (Data Structure)\n",
    "\n",
    "A linked list is created by using the node class. We create a Node object and create another class to use this node object. We pass the appropriate values thorugh the node object to point the to the next data elements.\n",
    "\n",
    "There are some advantages and disadvantages with this data structure. **Advantages** Linked Lists can save memory because they can be flexibile with memory management which saves memory. **Disadvantages** Finding or adding to the list requires traversing the entire list."
   ]
  },
  {
   "cell_type": "code",
   "execution_count": 6,
   "metadata": {},
   "outputs": [
    {
     "name": "stdout",
     "output_type": "stream",
     "text": [
      "Mon\n",
      "Tues\n",
      "Wed\n",
      "None\n"
     ]
    }
   ],
   "source": [
    "# Shoha's linked list\n",
    "class LinkedListNode():\n",
    "    def __init__(self, value):\n",
    "        self.value = value\n",
    "        self.next = None\n",
    "\n",
    "    def traverseList(self):\n",
    "        node = self\n",
    "        while node != None:\n",
    "            print(node.value)\n",
    "            node = node.next\n",
    "\n",
    "node1 = LinkedListNode('Mon')\n",
    "node2 = LinkedListNode('Tues')\n",
    "node3 = LinkedListNode('Wed')\n",
    "\n",
    "node1.next = node2\n",
    "node2.next = node3\n",
    "\n",
    "print(node1.traverseList())"
   ]
  },
  {
   "cell_type": "markdown",
   "metadata": {},
   "source": [
    "# A complete implementation of a linked list\n",
    "# 2 components to this solution - a Node class, and a LinkedList class\n",
    "\n",
    "class Node():\n",
    "    def __init__(self, value):\n",
    "        self.value = value\n",
    "        self.next = None\n",
    "\n",
    "class LinkedList():\n",
    "    def __init__(self):\n",
    "        self.head = None\n",
    "\n",
    "    def pushOn(self, new_value):\n",
    "        new_node = Node(new_value)\n",
    "        new_node.next = self.head\n",
    "        self.head = new_node\n",
    "\n",
    "    def insertAfter(self, prev_node, new_value):\n",
    "        # Check to see if the previous node even exists\n",
    "        if prev_node is None:\n",
    "            print('The given previous node must not be empty!')\n",
    "            return\n",
    "        # If the node is not empty then create a new node\n",
    "        new_node = Node(new_value)\n",
    "\n",
    "        # Update the previous node's next pointer to point to the new value\n",
    "        new_node.next = prev_node.next\n",
    "\n",
    "        # Update the previous node to point to the new node's value\n",
    "        prev_node.next = new_node\n",
    "\n",
    "        # This method will append a new node to the END of the linked list\n",
    "    def append(self, new_value):\n",
    "        # Create new node with a new value\n",
    "        new_node = Node(new_value)\n",
    "\n",
    "        # Check if the LinkedList is empty\n",
    "        # If it is, we will make THIS the new node (aka beginning of the head)\n",
    "        if self.head is None:\n",
    "            self.head = new_node\n",
    "\n",
    "        # BUT if the list is NOT empty - traverse to the end\n",
    "        # and add the NEW value to the end of the list\n",
    "\n",
    "        last = self.head\n",
    "\n",
    "        # While last.next is not None... continue to loop until we fina a NEW value\n",
    "        while(last.next):\n",
    "            last = last.next\n",
    "\n",
    "        # Change the current last node value to point to the NEW value\n",
    "        last.next = new_node\n",
    "\n",
    "    def traverse(self):\n",
    "        temp = self.head\n",
    "        # While the temp is NOT None - keep looping through the links until you reach a None value\n",
    "        while(temp):\n",
    "            print(temp.value)\n",
    "            temp = temp.next\n",
    "\n",
    "weekdays_links = LinkedList()\n",
    "\n",
    "# Insert a new day into the list\n",
    "weekdays_links.pushOn('Mon')\n",
    "weekdays_links.append('Tues')\n",
    "weekdays_links.append('Thurs')\n",
    "weekdays_links.insertAfter(weekdays_links.head.next,'Wed')\n",
    "weekdays_links.traverse()"
   ]
  },
  {
   "cell_type": "markdown",
   "metadata": {},
   "source": [
    "## Calculate(ROI) Homework"
   ]
  },
  {
   "cell_type": "code",
   "execution_count": 2,
   "metadata": {},
   "outputs": [
    {
     "name": "stdout",
     "output_type": "stream",
     "text": [
      "ROI for Property 1: 0.35000000000000003%\n"
     ]
    }
   ],
   "source": [
    "class RentalProperty:\n",
    "    def __init__(self, purchase_price, rental_income, expenses):\n",
    "        self.purchase_price = purchase_price\n",
    "        self.rental_income = rental_income\n",
    "        self.expenses = expenses\n",
    "\n",
    "    def calculate_roi(self):\n",
    "        net_income = self.rental_income - self.expenses\n",
    "        roi = (net_income / self.purchase_price) * 100\n",
    "        return roi\n",
    "\n",
    "# Example usage\n",
    "property1 = RentalProperty(200000, 1500, 800)\n",
    "roi_property1 = property1.calculate_roi()\n",
    "print(\"ROI for Property 1: {}%\".format(roi_property1))"
   ]
  }
 ],
 "metadata": {
  "kernelspec": {
   "display_name": "Python 3 (ipykernel)",
   "language": "python",
   "name": "python3"
  },
  "language_info": {
   "codemirror_mode": {
    "name": "ipython",
    "version": 3
   },
   "file_extension": ".py",
   "mimetype": "text/x-python",
   "name": "python",
   "nbconvert_exporter": "python",
   "pygments_lexer": "ipython3",
   "version": "3.11.7"
  }
 },
 "nbformat": 4,
 "nbformat_minor": 4
}
